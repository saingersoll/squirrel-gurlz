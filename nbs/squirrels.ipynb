{
 "cells": [
  {
   "cell_type": "markdown",
   "metadata": {},
   "source": [
    "# Seaborn Library Exploration\n",
    "pretty plot playground\n"
   ]
  },
  {
   "cell_type": "markdown",
   "metadata": {},
   "source": [
    "# What is it?\n"
   ]
  },
  {
   "cell_type": "markdown",
   "metadata": {},
   "source": [
    "Seaborn is a data visualization library with the same functionality as ggplots in R studio. In particular, it’s most widely used to make statistical graphics in Python and integrates closely with the panda datasets. Seaborn plotting functions operates on data frames and performs mapping and statistical aggregation to produce meaningful plots. Some other important functions to note is distributional representations, statistical estimation, plots for categorical data, multivariate views on complex datasets and most importantly making good and effective plots in communication. At its base, seaborn uses matplotlib to drawr its plots and it’s recommended to use it in conjunction with Jupyter/Python. "
   ]
  },
  {
   "cell_type": "markdown",
   "metadata": {},
   "source": [
    "# Where is Seaborn?\n",
    "\n",
    "Seaborn Website: https://seaborn.pydata.org/index.html\n",
    "\n",
    "    Contains a ton of tutorials about the installation process, how to apply different powerful statistical visualization tools, and galleries demonstrating reproducible examples.\n",
    "\n",
    "Seaborn Github: https://github.com/mwaskom/seaborn\n",
    "\n",
    "    Contains a link to the seaborn website and a detailed README document that details the Python 3.8+ system library dependenices required to use Seaborn. (These included numpy, pandas, and matplotlib). Notes on citaiton, testing, and development are additionally included.  \n"
   ]
  },
  {
   "cell_type": "markdown",
   "metadata": {},
   "source": [
    "# Who developed?\n"
   ]
  },
  {
   "cell_type": "markdown",
   "metadata": {},
   "source": [
    "Seaborn was developed by Michael Waskom. He created Seaborn as part of his graduate studies in cognitive neuroscience at the University of California, Berkeley. Theres a 186 contributors towards seaborns github as well!"
   ]
  },
  {
   "cell_type": "markdown",
   "metadata": {},
   "source": [
    "# Why was it created?"
   ]
  },
  {
   "cell_type": "markdown",
   "metadata": {},
   "source": []
  },
  {
   "cell_type": "code",
   "execution_count": null,
   "metadata": {},
   "outputs": [],
   "source": []
  },
  {
   "cell_type": "markdown",
   "metadata": {},
   "source": [
    "# Reading in Libraries & Data"
   ]
  },
  {
   "cell_type": "code",
   "execution_count": null,
   "metadata": {},
   "outputs": [],
   "source": [
    "import numpy as np\n",
    "import matplotlib.pyplot as plt\n",
    "import pandas as pd \n",
    "import seaborn as sns\n",
    "\n",
    "penguins = sns.load_dataset(\"penguins\")\n",
    "\n",
    "def snake_case(column_name):\n",
    "    return column_name.strip().replace(' ', '_').lower()\n",
    "penguins.rename(columns=snake_case, inplace=True)\n",
    "\n"
   ]
  }
 ],
 "metadata": {
  "kernelspec": {
   "display_name": "squirrelgurlz",
   "language": "python",
   "name": "python3"
  },
  "language_info": {
   "codemirror_mode": {
    "name": "ipython",
    "version": 3
   },
   "file_extension": ".py",
   "mimetype": "text/x-python",
   "name": "python",
   "nbconvert_exporter": "python",
   "pygments_lexer": "ipython3",
   "version": "3.10.13"
  },
  "orig_nbformat": 4
 },
 "nbformat": 4,
 "nbformat_minor": 2
}
